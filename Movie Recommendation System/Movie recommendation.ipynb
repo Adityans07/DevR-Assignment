{
 "cells": [
  {
   "cell_type": "markdown",
   "id": "cc39ddc8",
   "metadata": {},
   "source": [
    "# Movie Recommendation System\n"
   ]
  },
  {
   "cell_type": "code",
   "execution_count": 37,
   "id": "4197eeb2",
   "metadata": {},
   "outputs": [],
   "source": [
    "import pandas as pd\n",
    "import numpy as np\n",
    "import matplotlib.pyplot as plt"
   ]
  },
  {
   "cell_type": "code",
   "execution_count": 38,
   "id": "eacad8cb",
   "metadata": {},
   "outputs": [],
   "source": [
    "df = pd.read_csv('movie.csv')"
   ]
  },
  {
   "cell_type": "code",
   "execution_count": 39,
   "id": "fc333aa9",
   "metadata": {},
   "outputs": [
    {
     "data": {
      "text/html": [
       "<div>\n",
       "<style scoped>\n",
       "    .dataframe tbody tr th:only-of-type {\n",
       "        vertical-align: middle;\n",
       "    }\n",
       "\n",
       "    .dataframe tbody tr th {\n",
       "        vertical-align: top;\n",
       "    }\n",
       "\n",
       "    .dataframe thead th {\n",
       "        text-align: right;\n",
       "    }\n",
       "</style>\n",
       "<table border=\"1\" class=\"dataframe\">\n",
       "  <thead>\n",
       "    <tr style=\"text-align: right;\">\n",
       "      <th></th>\n",
       "      <th>movieId</th>\n",
       "      <th>title</th>\n",
       "      <th>genres</th>\n",
       "    </tr>\n",
       "  </thead>\n",
       "  <tbody>\n",
       "    <tr>\n",
       "      <th>0</th>\n",
       "      <td>1</td>\n",
       "      <td>Toy Story (1995)</td>\n",
       "      <td>Adventure|Animation|Children|Comedy|Fantasy</td>\n",
       "    </tr>\n",
       "    <tr>\n",
       "      <th>1</th>\n",
       "      <td>2</td>\n",
       "      <td>Jumanji (1995)</td>\n",
       "      <td>Adventure|Children|Fantasy</td>\n",
       "    </tr>\n",
       "    <tr>\n",
       "      <th>2</th>\n",
       "      <td>3</td>\n",
       "      <td>Grumpier Old Men (1995)</td>\n",
       "      <td>Comedy|Romance</td>\n",
       "    </tr>\n",
       "    <tr>\n",
       "      <th>3</th>\n",
       "      <td>4</td>\n",
       "      <td>Waiting to Exhale (1995)</td>\n",
       "      <td>Comedy|Drama|Romance</td>\n",
       "    </tr>\n",
       "    <tr>\n",
       "      <th>4</th>\n",
       "      <td>5</td>\n",
       "      <td>Father of the Bride Part II (1995)</td>\n",
       "      <td>Comedy</td>\n",
       "    </tr>\n",
       "  </tbody>\n",
       "</table>\n",
       "</div>"
      ],
      "text/plain": [
       "   movieId                               title  \\\n",
       "0        1                    Toy Story (1995)   \n",
       "1        2                      Jumanji (1995)   \n",
       "2        3             Grumpier Old Men (1995)   \n",
       "3        4            Waiting to Exhale (1995)   \n",
       "4        5  Father of the Bride Part II (1995)   \n",
       "\n",
       "                                        genres  \n",
       "0  Adventure|Animation|Children|Comedy|Fantasy  \n",
       "1                   Adventure|Children|Fantasy  \n",
       "2                               Comedy|Romance  \n",
       "3                         Comedy|Drama|Romance  \n",
       "4                                       Comedy  "
      ]
     },
     "execution_count": 39,
     "metadata": {},
     "output_type": "execute_result"
    }
   ],
   "source": [
    "df.head(5)"
   ]
  },
  {
   "cell_type": "code",
   "execution_count": 40,
   "id": "af81ca56",
   "metadata": {},
   "outputs": [
    {
     "data": {
      "text/plain": [
       "(9742, 3)"
      ]
     },
     "execution_count": 40,
     "metadata": {},
     "output_type": "execute_result"
    }
   ],
   "source": [
    "df.shape"
   ]
  },
  {
   "cell_type": "code",
   "execution_count": 41,
   "id": "5a3f6c43",
   "metadata": {},
   "outputs": [
    {
     "data": {
      "text/plain": [
       "movieId    0\n",
       "title      0\n",
       "genres     0\n",
       "dtype: int64"
      ]
     },
     "execution_count": 41,
     "metadata": {},
     "output_type": "execute_result"
    }
   ],
   "source": [
    "df.isnull().sum()"
   ]
  },
  {
   "cell_type": "code",
   "execution_count": 42,
   "id": "809d0bed",
   "metadata": {},
   "outputs": [],
   "source": [
    "#extract title function\n",
    "def extracting_title(title):\n",
    "    year = title[len(title)-5:len(title)-1]\n",
    "    \n",
    "    if year.isnumeric():\n",
    "        title_no_year=title[:len(title)-7]\n",
    "        return title_no_year\n",
    "    else:\n",
    "        return title"
   ]
  },
  {
   "cell_type": "code",
   "execution_count": 43,
   "id": "cd15409b",
   "metadata": {},
   "outputs": [],
   "source": [
    "#extract year function\n",
    "def extracting_year(title):\n",
    "    year = title[len(title)-5:len(title)-1]\n",
    "    \n",
    "    if year.isnumeric():\n",
    "        return int(year)\n",
    "    else:\n",
    "        return np.nan"
   ]
  },
  {
   "cell_type": "code",
   "execution_count": 44,
   "id": "c95a6ea0",
   "metadata": {},
   "outputs": [],
   "source": [
    "df.rename(columns={'title':'title_year'}, inplace=True)\n",
    "df['title_year']=df['title_year'].apply(lambda x:x.strip())\n",
    "df['title']=df['title_year'].apply(extracting_title)\n",
    "df['year']=df['title_year'].apply(extracting_year)"
   ]
  },
  {
   "cell_type": "code",
   "execution_count": 45,
   "id": "23d90c70",
   "metadata": {},
   "outputs": [
    {
     "data": {
      "text/html": [
       "<div>\n",
       "<style scoped>\n",
       "    .dataframe tbody tr th:only-of-type {\n",
       "        vertical-align: middle;\n",
       "    }\n",
       "\n",
       "    .dataframe tbody tr th {\n",
       "        vertical-align: top;\n",
       "    }\n",
       "\n",
       "    .dataframe thead th {\n",
       "        text-align: right;\n",
       "    }\n",
       "</style>\n",
       "<table border=\"1\" class=\"dataframe\">\n",
       "  <thead>\n",
       "    <tr style=\"text-align: right;\">\n",
       "      <th></th>\n",
       "      <th>movieId</th>\n",
       "      <th>title_year</th>\n",
       "      <th>genres</th>\n",
       "      <th>title</th>\n",
       "      <th>year</th>\n",
       "    </tr>\n",
       "  </thead>\n",
       "  <tbody>\n",
       "    <tr>\n",
       "      <th>0</th>\n",
       "      <td>1</td>\n",
       "      <td>Toy Story (1995)</td>\n",
       "      <td>Adventure|Animation|Children|Comedy|Fantasy</td>\n",
       "      <td>Toy Story</td>\n",
       "      <td>1995.0</td>\n",
       "    </tr>\n",
       "    <tr>\n",
       "      <th>1</th>\n",
       "      <td>2</td>\n",
       "      <td>Jumanji (1995)</td>\n",
       "      <td>Adventure|Children|Fantasy</td>\n",
       "      <td>Jumanji</td>\n",
       "      <td>1995.0</td>\n",
       "    </tr>\n",
       "    <tr>\n",
       "      <th>2</th>\n",
       "      <td>3</td>\n",
       "      <td>Grumpier Old Men (1995)</td>\n",
       "      <td>Comedy|Romance</td>\n",
       "      <td>Grumpier Old Men</td>\n",
       "      <td>1995.0</td>\n",
       "    </tr>\n",
       "    <tr>\n",
       "      <th>3</th>\n",
       "      <td>4</td>\n",
       "      <td>Waiting to Exhale (1995)</td>\n",
       "      <td>Comedy|Drama|Romance</td>\n",
       "      <td>Waiting to Exhale</td>\n",
       "      <td>1995.0</td>\n",
       "    </tr>\n",
       "    <tr>\n",
       "      <th>4</th>\n",
       "      <td>5</td>\n",
       "      <td>Father of the Bride Part II (1995)</td>\n",
       "      <td>Comedy</td>\n",
       "      <td>Father of the Bride Part II</td>\n",
       "      <td>1995.0</td>\n",
       "    </tr>\n",
       "    <tr>\n",
       "      <th>...</th>\n",
       "      <td>...</td>\n",
       "      <td>...</td>\n",
       "      <td>...</td>\n",
       "      <td>...</td>\n",
       "      <td>...</td>\n",
       "    </tr>\n",
       "    <tr>\n",
       "      <th>9737</th>\n",
       "      <td>193581</td>\n",
       "      <td>Black Butler: Book of the Atlantic (2017)</td>\n",
       "      <td>Action|Animation|Comedy|Fantasy</td>\n",
       "      <td>Black Butler: Book of the Atlantic</td>\n",
       "      <td>2017.0</td>\n",
       "    </tr>\n",
       "    <tr>\n",
       "      <th>9738</th>\n",
       "      <td>193583</td>\n",
       "      <td>No Game No Life: Zero (2017)</td>\n",
       "      <td>Animation|Comedy|Fantasy</td>\n",
       "      <td>No Game No Life: Zero</td>\n",
       "      <td>2017.0</td>\n",
       "    </tr>\n",
       "    <tr>\n",
       "      <th>9739</th>\n",
       "      <td>193585</td>\n",
       "      <td>Flint (2017)</td>\n",
       "      <td>Drama</td>\n",
       "      <td>Flint</td>\n",
       "      <td>2017.0</td>\n",
       "    </tr>\n",
       "    <tr>\n",
       "      <th>9740</th>\n",
       "      <td>193587</td>\n",
       "      <td>Bungo Stray Dogs: Dead Apple (2018)</td>\n",
       "      <td>Action|Animation</td>\n",
       "      <td>Bungo Stray Dogs: Dead Apple</td>\n",
       "      <td>2018.0</td>\n",
       "    </tr>\n",
       "    <tr>\n",
       "      <th>9741</th>\n",
       "      <td>193609</td>\n",
       "      <td>Andrew Dice Clay: Dice Rules (1991)</td>\n",
       "      <td>Comedy</td>\n",
       "      <td>Andrew Dice Clay: Dice Rules</td>\n",
       "      <td>1991.0</td>\n",
       "    </tr>\n",
       "  </tbody>\n",
       "</table>\n",
       "<p>9742 rows × 5 columns</p>\n",
       "</div>"
      ],
      "text/plain": [
       "      movieId                                 title_year  \\\n",
       "0           1                           Toy Story (1995)   \n",
       "1           2                             Jumanji (1995)   \n",
       "2           3                    Grumpier Old Men (1995)   \n",
       "3           4                   Waiting to Exhale (1995)   \n",
       "4           5         Father of the Bride Part II (1995)   \n",
       "...       ...                                        ...   \n",
       "9737   193581  Black Butler: Book of the Atlantic (2017)   \n",
       "9738   193583               No Game No Life: Zero (2017)   \n",
       "9739   193585                               Flint (2017)   \n",
       "9740   193587        Bungo Stray Dogs: Dead Apple (2018)   \n",
       "9741   193609        Andrew Dice Clay: Dice Rules (1991)   \n",
       "\n",
       "                                           genres  \\\n",
       "0     Adventure|Animation|Children|Comedy|Fantasy   \n",
       "1                      Adventure|Children|Fantasy   \n",
       "2                                  Comedy|Romance   \n",
       "3                            Comedy|Drama|Romance   \n",
       "4                                          Comedy   \n",
       "...                                           ...   \n",
       "9737              Action|Animation|Comedy|Fantasy   \n",
       "9738                     Animation|Comedy|Fantasy   \n",
       "9739                                        Drama   \n",
       "9740                             Action|Animation   \n",
       "9741                                       Comedy   \n",
       "\n",
       "                                   title    year  \n",
       "0                              Toy Story  1995.0  \n",
       "1                                Jumanji  1995.0  \n",
       "2                       Grumpier Old Men  1995.0  \n",
       "3                      Waiting to Exhale  1995.0  \n",
       "4            Father of the Bride Part II  1995.0  \n",
       "...                                  ...     ...  \n",
       "9737  Black Butler: Book of the Atlantic  2017.0  \n",
       "9738               No Game No Life: Zero  2017.0  \n",
       "9739                               Flint  2017.0  \n",
       "9740        Bungo Stray Dogs: Dead Apple  2018.0  \n",
       "9741        Andrew Dice Clay: Dice Rules  1991.0  \n",
       "\n",
       "[9742 rows x 5 columns]"
      ]
     },
     "execution_count": 45,
     "metadata": {},
     "output_type": "execute_result"
    }
   ],
   "source": [
    "df"
   ]
  },
  {
   "cell_type": "code",
   "execution_count": 46,
   "id": "9730e965",
   "metadata": {},
   "outputs": [
    {
     "data": {
      "text/plain": [
       "movieId        0\n",
       "title_year     0\n",
       "genres         0\n",
       "title          0\n",
       "year          12\n",
       "dtype: int64"
      ]
     },
     "execution_count": 46,
     "metadata": {},
     "output_type": "execute_result"
    }
   ],
   "source": [
    "df.isnull().sum()"
   ]
  },
  {
   "cell_type": "markdown",
   "id": "7ff68310",
   "metadata": {},
   "source": [
    "# Exploring Generes"
   ]
  },
  {
   "cell_type": "code",
   "execution_count": 47,
   "id": "2b41cf4c",
   "metadata": {},
   "outputs": [
    {
     "name": "stdout",
     "output_type": "stream",
     "text": [
      "The number of movies which do not have info about genres: 34\n"
     ]
    }
   ],
   "source": [
    "r,c = df[df['genres']=='(no genres listed)'].shape \n",
    "print('The number of movies which do not have info about genres:',r)"
   ]
  },
  {
   "cell_type": "code",
   "execution_count": 48,
   "id": "64200ddb",
   "metadata": {},
   "outputs": [],
   "source": [
    "df = df[~(df['genres']=='(no genres listed)')].reset_index(drop=True)"
   ]
  },
  {
   "cell_type": "code",
   "execution_count": 49,
   "id": "80a24671",
   "metadata": {},
   "outputs": [
    {
     "data": {
      "text/html": [
       "<div>\n",
       "<style scoped>\n",
       "    .dataframe tbody tr th:only-of-type {\n",
       "        vertical-align: middle;\n",
       "    }\n",
       "\n",
       "    .dataframe tbody tr th {\n",
       "        vertical-align: top;\n",
       "    }\n",
       "\n",
       "    .dataframe thead th {\n",
       "        text-align: right;\n",
       "    }\n",
       "</style>\n",
       "<table border=\"1\" class=\"dataframe\">\n",
       "  <thead>\n",
       "    <tr style=\"text-align: right;\">\n",
       "      <th></th>\n",
       "      <th>title</th>\n",
       "      <th>genres</th>\n",
       "    </tr>\n",
       "  </thead>\n",
       "  <tbody>\n",
       "    <tr>\n",
       "      <th>0</th>\n",
       "      <td>Toy Story</td>\n",
       "      <td>Adventure|Animation|Children|Comedy|Fantasy</td>\n",
       "    </tr>\n",
       "    <tr>\n",
       "      <th>1</th>\n",
       "      <td>Jumanji</td>\n",
       "      <td>Adventure|Children|Fantasy</td>\n",
       "    </tr>\n",
       "    <tr>\n",
       "      <th>2</th>\n",
       "      <td>Grumpier Old Men</td>\n",
       "      <td>Comedy|Romance</td>\n",
       "    </tr>\n",
       "    <tr>\n",
       "      <th>3</th>\n",
       "      <td>Waiting to Exhale</td>\n",
       "      <td>Comedy|Drama|Romance</td>\n",
       "    </tr>\n",
       "    <tr>\n",
       "      <th>4</th>\n",
       "      <td>Father of the Bride Part II</td>\n",
       "      <td>Comedy</td>\n",
       "    </tr>\n",
       "  </tbody>\n",
       "</table>\n",
       "</div>"
      ],
      "text/plain": [
       "                         title                                       genres\n",
       "0                    Toy Story  Adventure|Animation|Children|Comedy|Fantasy\n",
       "1                      Jumanji                   Adventure|Children|Fantasy\n",
       "2             Grumpier Old Men                               Comedy|Romance\n",
       "3            Waiting to Exhale                         Comedy|Drama|Romance\n",
       "4  Father of the Bride Part II                                       Comedy"
      ]
     },
     "execution_count": 49,
     "metadata": {},
     "output_type": "execute_result"
    }
   ],
   "source": [
    "df[['title','genres']].head(5)"
   ]
  },
  {
   "cell_type": "code",
   "execution_count": 50,
   "id": "64b29142",
   "metadata": {},
   "outputs": [
    {
     "name": "stderr",
     "output_type": "stream",
     "text": [
      "<ipython-input-50-4bbd5e4c14c8>:1: FutureWarning: The default value of regex will change from True to False in a future version. In addition, single character regular expressions will *not* be treated as literal strings when regex=True.\n",
      "  df['genres'] = df['genres'].str.replace('|',' ')\n"
     ]
    }
   ],
   "source": [
    "df['genres'] = df['genres'].str.replace('|',' ')"
   ]
  },
  {
   "cell_type": "code",
   "execution_count": 51,
   "id": "88d1ca2a",
   "metadata": {},
   "outputs": [
    {
     "data": {
      "text/html": [
       "<div>\n",
       "<style scoped>\n",
       "    .dataframe tbody tr th:only-of-type {\n",
       "        vertical-align: middle;\n",
       "    }\n",
       "\n",
       "    .dataframe tbody tr th {\n",
       "        vertical-align: top;\n",
       "    }\n",
       "\n",
       "    .dataframe thead th {\n",
       "        text-align: right;\n",
       "    }\n",
       "</style>\n",
       "<table border=\"1\" class=\"dataframe\">\n",
       "  <thead>\n",
       "    <tr style=\"text-align: right;\">\n",
       "      <th></th>\n",
       "      <th>movieId</th>\n",
       "      <th>title_year</th>\n",
       "      <th>genres</th>\n",
       "      <th>title</th>\n",
       "      <th>year</th>\n",
       "    </tr>\n",
       "  </thead>\n",
       "  <tbody>\n",
       "    <tr>\n",
       "      <th>0</th>\n",
       "      <td>1</td>\n",
       "      <td>Toy Story (1995)</td>\n",
       "      <td>Adventure Animation Children Comedy Fantasy</td>\n",
       "      <td>Toy Story</td>\n",
       "      <td>1995.0</td>\n",
       "    </tr>\n",
       "    <tr>\n",
       "      <th>1</th>\n",
       "      <td>2</td>\n",
       "      <td>Jumanji (1995)</td>\n",
       "      <td>Adventure Children Fantasy</td>\n",
       "      <td>Jumanji</td>\n",
       "      <td>1995.0</td>\n",
       "    </tr>\n",
       "    <tr>\n",
       "      <th>2</th>\n",
       "      <td>3</td>\n",
       "      <td>Grumpier Old Men (1995)</td>\n",
       "      <td>Comedy Romance</td>\n",
       "      <td>Grumpier Old Men</td>\n",
       "      <td>1995.0</td>\n",
       "    </tr>\n",
       "    <tr>\n",
       "      <th>3</th>\n",
       "      <td>4</td>\n",
       "      <td>Waiting to Exhale (1995)</td>\n",
       "      <td>Comedy Drama Romance</td>\n",
       "      <td>Waiting to Exhale</td>\n",
       "      <td>1995.0</td>\n",
       "    </tr>\n",
       "    <tr>\n",
       "      <th>4</th>\n",
       "      <td>5</td>\n",
       "      <td>Father of the Bride Part II (1995)</td>\n",
       "      <td>Comedy</td>\n",
       "      <td>Father of the Bride Part II</td>\n",
       "      <td>1995.0</td>\n",
       "    </tr>\n",
       "    <tr>\n",
       "      <th>...</th>\n",
       "      <td>...</td>\n",
       "      <td>...</td>\n",
       "      <td>...</td>\n",
       "      <td>...</td>\n",
       "      <td>...</td>\n",
       "    </tr>\n",
       "    <tr>\n",
       "      <th>9703</th>\n",
       "      <td>193581</td>\n",
       "      <td>Black Butler: Book of the Atlantic (2017)</td>\n",
       "      <td>Action Animation Comedy Fantasy</td>\n",
       "      <td>Black Butler: Book of the Atlantic</td>\n",
       "      <td>2017.0</td>\n",
       "    </tr>\n",
       "    <tr>\n",
       "      <th>9704</th>\n",
       "      <td>193583</td>\n",
       "      <td>No Game No Life: Zero (2017)</td>\n",
       "      <td>Animation Comedy Fantasy</td>\n",
       "      <td>No Game No Life: Zero</td>\n",
       "      <td>2017.0</td>\n",
       "    </tr>\n",
       "    <tr>\n",
       "      <th>9705</th>\n",
       "      <td>193585</td>\n",
       "      <td>Flint (2017)</td>\n",
       "      <td>Drama</td>\n",
       "      <td>Flint</td>\n",
       "      <td>2017.0</td>\n",
       "    </tr>\n",
       "    <tr>\n",
       "      <th>9706</th>\n",
       "      <td>193587</td>\n",
       "      <td>Bungo Stray Dogs: Dead Apple (2018)</td>\n",
       "      <td>Action Animation</td>\n",
       "      <td>Bungo Stray Dogs: Dead Apple</td>\n",
       "      <td>2018.0</td>\n",
       "    </tr>\n",
       "    <tr>\n",
       "      <th>9707</th>\n",
       "      <td>193609</td>\n",
       "      <td>Andrew Dice Clay: Dice Rules (1991)</td>\n",
       "      <td>Comedy</td>\n",
       "      <td>Andrew Dice Clay: Dice Rules</td>\n",
       "      <td>1991.0</td>\n",
       "    </tr>\n",
       "  </tbody>\n",
       "</table>\n",
       "<p>9708 rows × 5 columns</p>\n",
       "</div>"
      ],
      "text/plain": [
       "      movieId                                 title_year  \\\n",
       "0           1                           Toy Story (1995)   \n",
       "1           2                             Jumanji (1995)   \n",
       "2           3                    Grumpier Old Men (1995)   \n",
       "3           4                   Waiting to Exhale (1995)   \n",
       "4           5         Father of the Bride Part II (1995)   \n",
       "...       ...                                        ...   \n",
       "9703   193581  Black Butler: Book of the Atlantic (2017)   \n",
       "9704   193583               No Game No Life: Zero (2017)   \n",
       "9705   193585                               Flint (2017)   \n",
       "9706   193587        Bungo Stray Dogs: Dead Apple (2018)   \n",
       "9707   193609        Andrew Dice Clay: Dice Rules (1991)   \n",
       "\n",
       "                                           genres  \\\n",
       "0     Adventure Animation Children Comedy Fantasy   \n",
       "1                      Adventure Children Fantasy   \n",
       "2                                  Comedy Romance   \n",
       "3                            Comedy Drama Romance   \n",
       "4                                          Comedy   \n",
       "...                                           ...   \n",
       "9703              Action Animation Comedy Fantasy   \n",
       "9704                     Animation Comedy Fantasy   \n",
       "9705                                        Drama   \n",
       "9706                             Action Animation   \n",
       "9707                                       Comedy   \n",
       "\n",
       "                                   title    year  \n",
       "0                              Toy Story  1995.0  \n",
       "1                                Jumanji  1995.0  \n",
       "2                       Grumpier Old Men  1995.0  \n",
       "3                      Waiting to Exhale  1995.0  \n",
       "4            Father of the Bride Part II  1995.0  \n",
       "...                                  ...     ...  \n",
       "9703  Black Butler: Book of the Atlantic  2017.0  \n",
       "9704               No Game No Life: Zero  2017.0  \n",
       "9705                               Flint  2017.0  \n",
       "9706        Bungo Stray Dogs: Dead Apple  2018.0  \n",
       "9707        Andrew Dice Clay: Dice Rules  1991.0  \n",
       "\n",
       "[9708 rows x 5 columns]"
      ]
     },
     "execution_count": 51,
     "metadata": {},
     "output_type": "execute_result"
    }
   ],
   "source": [
    "df"
   ]
  },
  {
   "cell_type": "code",
   "execution_count": 52,
   "id": "d318f564",
   "metadata": {},
   "outputs": [],
   "source": [
    "counts=dict()\n",
    "\n",
    "for i in df.index:\n",
    "    for g in df.loc[i,'genres'].split(' '):\n",
    "        if g not in counts:\n",
    "            counts[g]=1\n",
    "        else:\n",
    "            counts[g]=counts[g]+1\n",
    "        "
   ]
  },
  {
   "cell_type": "code",
   "execution_count": 53,
   "id": "bcf2d21c",
   "metadata": {},
   "outputs": [
    {
     "data": {
      "image/png": "[encoded data removed]",
      "text/plain": [
       "<Figure size 1296x432 with 1 Axes>"
      ]
     },
     "metadata": {
      "needs_background": "light"
     },
     "output_type": "display_data"
    }
   ],
   "source": [
    "plt.figure(figsize=(18,6))\n",
    "plt.bar(list(counts.keys()),counts.values(),color='r')\n",
    "plt.xticks(rotation=45)\n",
    "plt.xlabel('Genres')\n",
    "plt.ylabel('Counts')\n",
    "plt.show()"
   ]
  },
  {
   "cell_type": "code",
   "execution_count": null,
   "id": "f4f3c5e0",
   "metadata": {},
   "outputs": [],
   "source": []
  },
  {
   "cell_type": "markdown",
   "id": "01be08cf",
   "metadata": {},
   "source": [
    "# Term Frequency and Inverse Document Frequency (tf-idf)"
   ]
  },
  {
   "cell_type": "code",
   "execution_count": 54,
   "id": "960d09b0",
   "metadata": {},
   "outputs": [],
   "source": [
    "from sklearn.feature_extraction.text import TfidfVectorizer"
   ]
  },
  {
   "cell_type": "code",
   "execution_count": 55,
   "id": "37a2e157",
   "metadata": {},
   "outputs": [],
   "source": [
    "df['genres']=df['genres'].str.replace('Sci-fi','Scifi')\n",
    "df['genres']=df['genres'].str.replace('Film-Noir','Noir')"
   ]
  },
  {
   "cell_type": "code",
   "execution_count": 56,
   "id": "805c4b71",
   "metadata": {},
   "outputs": [],
   "source": [
    "tfidf_vector=TfidfVectorizer(stop_words='english')\n",
    "tfidf_matrix=tfidf_vector.fit_transform(df['genres'])"
   ]
  },
  {
   "cell_type": "code",
   "execution_count": 57,
   "id": "4d9494b5",
   "metadata": {},
   "outputs": [
    {
     "name": "stdout",
     "output_type": "stream",
     "text": [
      "[(0, 'action'), (1, 'adventure'), (2, 'animation'), (3, 'children'), (4, 'comedy'), (5, 'crime'), (6, 'documentary'), (7, 'drama'), (8, 'fantasy'), (9, 'fi'), (10, 'horror'), (11, 'imax'), (12, 'musical'), (13, 'mystery'), (14, 'noir'), (15, 'romance'), (16, 'sci'), (17, 'thriller'), (18, 'war'), (19, 'western')]\n"
     ]
    },
    {
     "name": "stderr",
     "output_type": "stream",
     "text": [
      "C:\\Users\\HP\\AppData\\Local\\Programs\\Python\\Python39\\lib\\site-packages\\sklearn\\utils\\deprecation.py:87: FutureWarning: Function get_feature_names is deprecated; get_feature_names is deprecated in 1.0 and will be removed in 1.2. Please use get_feature_names_out instead.\n",
      "  warnings.warn(msg, category=FutureWarning)\n"
     ]
    }
   ],
   "source": [
    "print(list(enumerate(tfidf_vector.get_feature_names())))"
   ]
  },
  {
   "cell_type": "code",
   "execution_count": 58,
   "id": "c536fb9d",
   "metadata": {},
   "outputs": [
    {
     "name": "stdout",
     "output_type": "stream",
     "text": [
      "  (0, 8)\t0.48301747178653426\n",
      "  (0, 4)\t0.26738777563975086\n",
      "  (0, 3)\t0.5048957307474672\n",
      "  (0, 2)\t0.5162876752057701\n",
      "  (0, 1)\t0.41680359510322523\n",
      "  (1, 8)\t0.5936766667075072\n",
      "  (1, 3)\t0.6205672299106341\n",
      "  (1, 1)\t0.5122932056626417\n",
      "  (2, 15)\t0.8211549883098352\n",
      "  (2, 4)\t0.5707052524498741\n",
      "  (3, 7)\t0.46621627821471856\n",
      "  (3, 15)\t0.7264518207332316\n",
      "  (3, 4)\t0.5048862585582906\n",
      "  (4, 4)\t1.0\n"
     ]
    }
   ],
   "source": [
    "print(tfidf_matrix[:5])"
   ]
  },
  {
   "cell_type": "code",
   "execution_count": 59,
   "id": "92dafaf4",
   "metadata": {},
   "outputs": [
    {
     "data": {
      "text/plain": [
       "(9708, 20)"
      ]
     },
     "execution_count": 59,
     "metadata": {},
     "output_type": "execute_result"
    }
   ],
   "source": [
    "tfidf_matrix.shape"
   ]
  },
  {
   "cell_type": "code",
   "execution_count": 60,
   "id": "fbbf04ca",
   "metadata": {},
   "outputs": [
    {
     "data": {
      "text/plain": [
       "matrix([[0.        , 0.4168036 , 0.51628768, 0.50489573, 0.26738778,\n",
       "         0.        , 0.        , 0.        , 0.48301747, 0.        ,\n",
       "         0.        , 0.        , 0.        , 0.        , 0.        ,\n",
       "         0.        , 0.        , 0.        , 0.        , 0.        ]])"
      ]
     },
     "execution_count": 60,
     "metadata": {},
     "output_type": "execute_result"
    }
   ],
   "source": [
    "tfidf_matrix.todense()[0]"
   ]
  },
  {
   "cell_type": "code",
   "execution_count": 61,
   "id": "2ff29d40",
   "metadata": {},
   "outputs": [],
   "source": [
    "from sklearn.metrics.pairwise import linear_kernel"
   ]
  },
  {
   "cell_type": "code",
   "execution_count": 62,
   "id": "17df13b8",
   "metadata": {},
   "outputs": [
    {
     "name": "stdout",
     "output_type": "stream",
     "text": [
      "[[1.         0.8136036  0.15259961 ... 0.         0.42114166 0.26738778]\n",
      " [0.8136036  1.         0.         ... 0.         0.         0.        ]\n",
      " [0.15259961 0.         1.         ... 0.         0.         0.57070525]\n",
      " ...\n",
      " [0.         0.         0.         ... 1.         0.         0.        ]\n",
      " [0.42114166 0.         0.         ... 0.         1.         0.        ]\n",
      " [0.26738778 0.         0.57070525 ... 0.         0.         1.        ]]\n"
     ]
    }
   ],
   "source": [
    "sim_matrix=linear_kernel(tfidf_matrix,tfidf_matrix)\n",
    "print(sim_matrix)"
   ]
  },
  {
   "cell_type": "markdown",
   "id": "999a68c8",
   "metadata": {},
   "source": [
    "# Make the Recommendation Engine"
   ]
  },
  {
   "cell_type": "code",
   "execution_count": 63,
   "id": "9cd9dbce",
   "metadata": {},
   "outputs": [],
   "source": [
    "def get_title_year_from_index(index):\n",
    "    return df[df.index==index]['title_year'].values[0]\n",
    "\n",
    "def get_index_from_title(title):\n",
    "    return df[df.title==title].index.values[0]"
   ]
  },
  {
   "cell_type": "code",
   "execution_count": 64,
   "id": "289a4103",
   "metadata": {},
   "outputs": [],
   "source": [
    "from fuzzywuzzy import fuzz"
   ]
  },
  {
   "cell_type": "code",
   "execution_count": 65,
   "id": "1b36716f",
   "metadata": {},
   "outputs": [],
   "source": [
    "def matching_score(a,b):\n",
    "    return fuzz.ratio(a,b)"
   ]
  },
  {
   "cell_type": "code",
   "execution_count": 66,
   "id": "f39b6663",
   "metadata": {},
   "outputs": [],
   "source": [
    "def get_title_from_index(index):\n",
    "    return df[df.index==index]['title'].values[0]"
   ]
  },
  {
   "cell_type": "code",
   "execution_count": 67,
   "id": "206819fb",
   "metadata": {},
   "outputs": [],
   "source": [
    "def find_closest_title(title):\n",
    "    leven_scores = list(enumerate(df['title'].apply(matching_score, b=title)))\n",
    "    sorted_leven_scores = sorted(leven_scores, key=lambda x: x[1], reverse=True)\n",
    "    closest_title = get_title_from_index(sorted_leven_scores[0][0])\n",
    "    distance_score = sorted_leven_scores[0][1]\n",
    "    return closest_title, distance_score"
   ]
  },
  {
   "cell_type": "markdown",
   "id": "d349118e",
   "metadata": {},
   "source": [
    "# Recommend Movie"
   ]
  },
  {
   "cell_type": "code",
   "execution_count": 68,
   "id": "f92547ab",
   "metadata": {},
   "outputs": [],
   "source": [
    "def contents_based_recommender(movie_user_likes, how_many):\n",
    "    closest_title, distance_score = find_closest_title(movie_user_likes)\n",
    "    if distance_score == 100:\n",
    "        movie_index = get_index_from_title(closest_title)\n",
    "        movie_list = list(enumerate(sim_matrix[int(movie_index)]))\n",
    "        similar_movies = list(filter(lambda x:x[0] != int(movie_index), sorted(movie_list,key=lambda x:x[1], reverse=True))) # remove the typed movie itself\n",
    "\n",
    "        print('Here\\'s the list of movies similar to '+'\\033[1m'+str(closest_title)+'\\033[0m'+'.\\n')\n",
    "\n",
    "    for i,s in similar_movies[:how_many]: \n",
    "        print(get_title_year_from_index(i))\n",
    "    "
   ]
  },
  {
   "cell_type": "code",
   "execution_count": 69,
   "id": "f0ced562",
   "metadata": {},
   "outputs": [
    {
     "name": "stdout",
     "output_type": "stream",
     "text": [
      "Here's the list of movies similar to \u001b[1mToy Story\u001b[0m.\n",
      "\n",
      "Antz (1998)\n",
      "Toy Story 2 (1999)\n",
      "Adventures of Rocky and Bullwinkle, The (2000)\n",
      "Emperor's New Groove, The (2000)\n",
      "Monsters, Inc. (2001)\n",
      "Wild, The (2006)\n",
      "Shrek the Third (2007)\n",
      "Tale of Despereaux, The (2008)\n",
      "Asterix and the Vikings (Astérix et les Vikings) (2006)\n",
      "Turbo (2013)\n",
      "The Good Dinosaur (2015)\n",
      "Moana (2016)\n",
      "Inside Out (2015)\n",
      "Black Cauldron, The (1985)\n",
      "Lord of the Rings, The (1978)\n",
      "We're Back! A Dinosaur's Story (1993)\n",
      "Atlantis: The Lost Empire (2001)\n",
      "Land Before Time, The (1988)\n",
      "Pokemon 4 Ever (a.k.a. Pokémon 4: The Movie) (2002)\n",
      "Sinbad: Legend of the Seven Seas (2003)\n"
     ]
    }
   ],
   "source": [
    "contents_based_recommender('Toy Story',20)"
   ]
  },
  {
   "cell_type": "code",
   "execution_count": 70,
   "id": "f294439c",
   "metadata": {},
   "outputs": [
    {
     "data": {
      "text/html": [
       "<div>\n",
       "<style scoped>\n",
       "    .dataframe tbody tr th:only-of-type {\n",
       "        vertical-align: middle;\n",
       "    }\n",
       "\n",
       "    .dataframe tbody tr th {\n",
       "        vertical-align: top;\n",
       "    }\n",
       "\n",
       "    .dataframe thead th {\n",
       "        text-align: right;\n",
       "    }\n",
       "</style>\n",
       "<table border=\"1\" class=\"dataframe\">\n",
       "  <thead>\n",
       "    <tr style=\"text-align: right;\">\n",
       "      <th></th>\n",
       "      <th>movieId</th>\n",
       "      <th>title_year</th>\n",
       "      <th>genres</th>\n",
       "      <th>title</th>\n",
       "      <th>year</th>\n",
       "    </tr>\n",
       "  </thead>\n",
       "  <tbody>\n",
       "    <tr>\n",
       "      <th>6743</th>\n",
       "      <td>59315</td>\n",
       "      <td>Iron Man (2008)</td>\n",
       "      <td>Action Adventure Sci-Fi</td>\n",
       "      <td>Iron Man</td>\n",
       "      <td>2008.0</td>\n",
       "    </tr>\n",
       "    <tr>\n",
       "      <th>9424</th>\n",
       "      <td>167296</td>\n",
       "      <td>Iron Man (1931)</td>\n",
       "      <td>Drama</td>\n",
       "      <td>Iron Man</td>\n",
       "      <td>1931.0</td>\n",
       "    </tr>\n",
       "  </tbody>\n",
       "</table>\n",
       "</div>"
      ],
      "text/plain": [
       "      movieId       title_year                   genres     title    year\n",
       "6743    59315  Iron Man (2008)  Action Adventure Sci-Fi  Iron Man  2008.0\n",
       "9424   167296  Iron Man (1931)                    Drama  Iron Man  1931.0"
      ]
     },
     "execution_count": 70,
     "metadata": {},
     "output_type": "execute_result"
    }
   ],
   "source": [
    "df[df[\"title\"]==\"Iron Man\"]"
   ]
  },
  {
   "cell_type": "code",
   "execution_count": 71,
   "id": "98108870",
   "metadata": {},
   "outputs": [
    {
     "name": "stdout",
     "output_type": "stream",
     "text": [
      "Here's the list of movies similar to \u001b[1mIron Man\u001b[0m.\n",
      "\n",
      "Waterworld (1995)\n",
      "Star Wars: Episode IV - A New Hope (1977)\n",
      "Stargate (1994)\n",
      "Demolition Man (1993)\n",
      "Star Wars: Episode V - The Empire Strikes Back (1980)\n"
     ]
    }
   ],
   "source": [
    "contents_based_recommender(\"Iron Man\",5)"
   ]
  },
  {
   "cell_type": "code",
   "execution_count": null,
   "id": "06e30429",
   "metadata": {},
   "outputs": [],
   "source": []
  }
 ],
 "metadata": {
  "kernelspec": {
   "display_name": "Python 3",
   "language": "python",
   "name": "python3"
  },
  "language_info": {
   "codemirror_mode": {
    "name": "ipython",
    "version": 3
   },
   "file_extension": ".py",
   "mimetype": "text/x-python",
   "name": "python",
   "nbconvert_exporter": "python",
   "pygments_lexer": "ipython3",
   "version": "3.9.5"
  }
 },
 "nbformat": 4,
 "nbformat_minor": 5
}
